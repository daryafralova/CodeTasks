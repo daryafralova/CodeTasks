{
  "nbformat": 4,
  "nbformat_minor": 0,
  "metadata": {
    "colab": {
      "provenance": [],
      "authorship_tag": "ABX9TyMHIOJme1dGY9x5WWJ/NkzH"
    },
    "kernelspec": {
      "name": "python3",
      "display_name": "Python 3"
    },
    "language_info": {
      "name": "python"
    }
  },
  "cells": [
    {
      "cell_type": "code",
      "execution_count": null,
      "metadata": {
        "id": "O2sv_x0dKI5d"
      },
      "outputs": [],
      "source": [
        "#Создайте простой запрос ВЫБОРА, чтобы отобразить информацию о всех активных студентах."
      ]
    },
    {
      "cell_type": "code",
      "source": [
        "SELECT *\n",
        "FROM STUDENTS\n",
        "WHERE isActive=1"
      ],
      "metadata": {
        "id": "bD5fizgYeEdj"
      },
      "execution_count": null,
      "outputs": []
    }
  ]
}